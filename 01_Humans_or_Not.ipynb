{
  "nbformat": 4,
  "nbformat_minor": 0,
  "metadata": {
    "colab": {
      "provenance": [],
      "mount_file_id": "1k0D9rq31gHpxV34ktlYanl2A3subfcTa",
      "authorship_tag": "ABX9TyPs35DWjX9BcC/iwyL47KW3",
      "include_colab_link": true
    },
    "kernelspec": {
      "name": "python3",
      "display_name": "Python 3"
    },
    "language_info": {
      "name": "python"
    },
    "gpuClass": "standard"
  },
  "cells": [
    {
      "cell_type": "markdown",
      "metadata": {
        "id": "view-in-github",
        "colab_type": "text"
      },
      "source": [
        "<a href=\"https://colab.research.google.com/github/charles01george/Diabetes-prediction/blob/main/01_Humans_or_Not.ipynb\" target=\"_parent\"><img src=\"https://colab.research.google.com/assets/colab-badge.svg\" alt=\"Open In Colab\"/></a>"
      ]
    },
    {
      "cell_type": "markdown",
      "source": [
        "# Humans or not Humans"
      ],
      "metadata": {
        "id": "juAIe5_IPEGj"
      }
    },
    {
      "cell_type": "markdown",
      "source": [],
      "metadata": {
        "id": "ZigXjes7GaDR"
      }
    },
    {
      "cell_type": "markdown",
      "source": [
        "## Get the data"
      ],
      "metadata": {
        "id": "LUb4Fj-OF6iV"
      }
    },
    {
      "cell_type": "code",
      "source": [
        "import os\n",
        "import tensorflow as tf"
      ],
      "metadata": {
        "id": "MgP-8AEeF_uq"
      },
      "execution_count": 25,
      "outputs": []
    },
    {
      "cell_type": "code",
      "source": [
        "data = \"/content/drive/MyDrive/01_Humans_or_Not\""
      ],
      "metadata": {
        "id": "abBcD1MGux2j"
      },
      "execution_count": 2,
      "outputs": []
    },
    {
      "cell_type": "code",
      "source": [
        "os.listdir(data)"
      ],
      "metadata": {
        "colab": {
          "base_uri": "https://localhost:8080/"
        },
        "id": "IperWtkYDFVQ",
        "outputId": "38896f3a-810c-4985-c112-be2819c6fa91"
      },
      "execution_count": 3,
      "outputs": [
        {
          "output_type": "execute_result",
          "data": {
            "text/plain": [
              "['Test', 'Train']"
            ]
          },
          "metadata": {},
          "execution_count": 3
        }
      ]
    },
    {
      "cell_type": "code",
      "source": [
        "os.listdir(os.path.join(data, \"Train\"))"
      ],
      "metadata": {
        "colab": {
          "base_uri": "https://localhost:8080/"
        },
        "id": "ia-rm-wRwJs9",
        "outputId": "19b375f5-b179-4ded-e8d9-712b3011e51c"
      },
      "execution_count": 18,
      "outputs": [
        {
          "output_type": "execute_result",
          "data": {
            "text/plain": [
              "['humans', 'not_humans']"
            ]
          },
          "metadata": {},
          "execution_count": 18
        }
      ]
    },
    {
      "cell_type": "markdown",
      "source": [
        "### Inspect the data"
      ],
      "metadata": {
        "id": "eNM5-Dbz9cXV"
      }
    },
    {
      "cell_type": "code",
      "source": [
        "os.listdir(os.path.join(data, \"Train\", \"humans\"))[:5]"
      ],
      "metadata": {
        "id": "2e9AGMG2xDn0",
        "colab": {
          "base_uri": "https://localhost:8080/"
        },
        "outputId": "59113c03-2f6d-4ecd-9d6a-e3b212dc4422"
      },
      "execution_count": 13,
      "outputs": [
        {
          "output_type": "execute_result",
          "data": {
            "text/plain": [
              "['0B699446-ECAE-4A34-96E6-51DE3ECDA3EC Small.jpeg',\n",
              " '0A40694B-BB3D-4D5C-8BC6-9B0DBD90C58C Small.jpeg',\n",
              " '0A8F2502-6427-4730-9960-4BC7EB3B1D90 Small.jpeg',\n",
              " '0a754ad1-4640-4de5-8bbd-5f81dbbf904a Small.jpeg',\n",
              " '1D50442A-0CC3-41D0-9B97-388A14E81374 Small.jpeg']"
            ]
          },
          "metadata": {},
          "execution_count": 13
        }
      ]
    },
    {
      "cell_type": "code",
      "source": [
        "os.listdir(os.path.join(data, \"Train\", \"not_humans\"))[:5]"
      ],
      "metadata": {
        "colab": {
          "base_uri": "https://localhost:8080/"
        },
        "id": "wumEO0Gt4cin",
        "outputId": "8fd6c43e-ba7c-41b0-8580-52cd5c5a6b0b"
      },
      "execution_count": 20,
      "outputs": [
        {
          "output_type": "execute_result",
          "data": {
            "text/plain": [
              "['3CC26C46-9F19-425A-B386-56B742745A66 Small.jpeg',\n",
              " '1C247B1C-254C-4BE7-BB6F-843A2C39DB7C Small.jpeg',\n",
              " '3C72CC29-04D9-4E9D-87C7-4F873E8CE0A6 Small.jpeg',\n",
              " '3D0529AD-D8A9-496B-836B-94B52BD89E85 Small.jpeg',\n",
              " '0A97A324-04BD-4368-8F97-F1679CDD425E Small.jpeg']"
            ]
          },
          "metadata": {},
          "execution_count": 20
        }
      ]
    },
    {
      "cell_type": "code",
      "source": [
        "len(os.listdir(\"drive/MyDrive/01_Humans_or_Not/Train/humans\"))"
      ],
      "metadata": {
        "colab": {
          "base_uri": "https://localhost:8080/"
        },
        "id": "oBr75amC4_w0",
        "outputId": "aee81fdf-b750-4408-8472-bed67812f6a0"
      },
      "execution_count": 32,
      "outputs": [
        {
          "output_type": "execute_result",
          "data": {
            "text/plain": [
              "507"
            ]
          },
          "metadata": {},
          "execution_count": 32
        }
      ]
    },
    {
      "cell_type": "code",
      "source": [
        "# How many images are in our dataset\n",
        "data = tf.keras.utils.image_dataset_from_directory(\"drive/MyDrive/01_Humans_or_Not\")"
      ],
      "metadata": {
        "colab": {
          "base_uri": "https://localhost:8080/"
        },
        "id": "OdV7ifo36NAr",
        "outputId": "da3d7b44-3750-48c0-fc1a-ec037e92e517"
      },
      "execution_count": 27,
      "outputs": [
        {
          "output_type": "stream",
          "name": "stdout",
          "text": [
            "Found 1090 files belonging to 2 classes.\n"
          ]
        }
      ]
    },
    {
      "cell_type": "code",
      "source": [
        "# Number of training images\n",
        "tf.keras.utils.image_dataset_from_directory(\"drive/MyDrive/01_Humans_or_Not/Train/\")"
      ],
      "metadata": {
        "colab": {
          "base_uri": "https://localhost:8080/"
        },
        "id": "dnF7928U7HXX",
        "outputId": "12558b99-201d-4df6-a0c8-d39c33fd0f9f"
      },
      "execution_count": 33,
      "outputs": [
        {
          "output_type": "stream",
          "name": "stdout",
          "text": [
            "Found 1018 files belonging to 2 classes.\n"
          ]
        },
        {
          "output_type": "execute_result",
          "data": {
            "text/plain": [
              "<BatchDataset element_spec=(TensorSpec(shape=(None, 256, 256, 3), dtype=tf.float32, name=None), TensorSpec(shape=(None,), dtype=tf.int32, name=None))>"
            ]
          },
          "metadata": {},
          "execution_count": 33
        }
      ]
    },
    {
      "cell_type": "code",
      "source": [
        "# How many human images in our training set\n",
        "num_human_images_train = len(os.listdir(\"drive/MyDrive/01_Humans_or_Not/Train/humans\"))\n",
        "num_human_images_train"
      ],
      "metadata": {
        "colab": {
          "base_uri": "https://localhost:8080/"
        },
        "id": "uqLTsIIc7zHJ",
        "outputId": "c8eea3db-24fa-48be-e06c-db9320db8d92"
      },
      "execution_count": 38,
      "outputs": [
        {
          "output_type": "execute_result",
          "data": {
            "text/plain": [
              "507"
            ]
          },
          "metadata": {},
          "execution_count": 38
        }
      ]
    },
    {
      "cell_type": "code",
      "source": [
        "# How many not-human images in our training set\n",
        "num_not_human_images_train = len(os.listdir(\"drive/MyDrive/01_Humans_or_Not/Train/not_humans\"))\n",
        "num_not_human_images_train"
      ],
      "metadata": {
        "colab": {
          "base_uri": "https://localhost:8080/"
        },
        "id": "WSMfrPQa8V5s",
        "outputId": "88c53520-607d-4d6c-fe2a-65af32a88ead"
      },
      "execution_count": 40,
      "outputs": [
        {
          "output_type": "execute_result",
          "data": {
            "text/plain": [
              "511"
            ]
          },
          "metadata": {},
          "execution_count": 40
        }
      ]
    },
    {
      "cell_type": "code",
      "source": [
        "# View a random image"
      ],
      "metadata": {
        "id": "nP_-aJiG86i2"
      },
      "execution_count": null,
      "outputs": []
    }
  ]
}